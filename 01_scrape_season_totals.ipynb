{
 "cells": [
  {
   "cell_type": "markdown",
   "metadata": {
    "ExecuteTime": {
     "end_time": "2016-12-19T11:58:35.299673",
     "start_time": "2016-12-19T11:58:35.279472"
    }
   },
   "source": [
    "# Scrape season totals for every player from basketball reference"
   ]
  },
  {
   "cell_type": "code",
   "execution_count": 7,
   "metadata": {
    "ExecuteTime": {
     "end_time": "2016-12-22T17:14:23.029352",
     "start_time": "2016-12-22T17:14:18.404592"
    },
    "collapsed": false
   },
   "outputs": [],
   "source": [
    "import pandas as pd\n",
    "import requests\n",
    "\n",
    "from bs4 import BeautifulSoup"
   ]
  },
  {
   "cell_type": "code",
   "execution_count": 8,
   "metadata": {
    "ExecuteTime": {
     "end_time": "2016-12-22T17:14:23.059244",
     "start_time": "2016-12-22T17:14:23.031056"
    },
    "collapsed": false
   },
   "outputs": [],
   "source": [
    "def parse_html_table(html_table):\n",
    "    '''For parsing basketball reference stats table'''\n",
    "    data = []\n",
    "    cur_row = []\n",
    "    row_names = []\n",
    "    for ele in html_table:\n",
    "        stat_name  = ele['data-stat']\n",
    "        stat_value = ele.string\n",
    "        new_row = (stat_name == 'player')\n",
    "        if new_row:\n",
    "            if cur_row:\n",
    "                data.append(cur_row)\n",
    "            cur_row = []\n",
    "            col_names = []\n",
    "            cur_row.append(ele['csk']) # fixes weird asterisk error\n",
    "            col_names.append(stat_name)\n",
    "            continue\n",
    "        cur_row.append(stat_value)\n",
    "        col_names.append(stat_name)\n",
    "    return data, col_names"
   ]
  },
  {
   "cell_type": "code",
   "execution_count": 9,
   "metadata": {
    "ExecuteTime": {
     "end_time": "2016-12-22T17:15:12.644172",
     "start_time": "2016-12-22T17:14:23.060637"
    },
    "collapsed": false
   },
   "outputs": [],
   "source": [
    "# Loop thru each year and collect data\n",
    "dfs = []\n",
    "for yr in range(1980,(2016 + 1)):\n",
    "    url = 'http://www.basketball-reference.com/leagues/NBA_{yr}_totals.html'.format(yr = yr)\n",
    "    r = requests.get(url)\n",
    "    soup = BeautifulSoup(r.text)\n",
    "    yr_data, col_names = parse_html_table(soup.findAll('td'))\n",
    "    df = pd.DataFrame(yr_data, columns = col_names)\n",
    "    df['yr'] = yr\n",
    "    dfs.append(df)"
   ]
  },
  {
   "cell_type": "code",
   "execution_count": 10,
   "metadata": {
    "ExecuteTime": {
     "end_time": "2016-12-22T17:15:15.773899",
     "start_time": "2016-12-22T17:15:15.570606"
    },
    "collapsed": false
   },
   "outputs": [],
   "source": [
    "all_seasons = pd.concat(dfs)\n",
    "all_seasons.to_csv('data/season_totals.csv')"
   ]
  },
  {
   "cell_type": "code",
   "execution_count": null,
   "metadata": {
    "collapsed": true
   },
   "outputs": [],
   "source": []
  }
 ],
 "metadata": {
  "kernelspec": {
   "display_name": "Python 2",
   "language": "python",
   "name": "python2"
  },
  "language_info": {
   "codemirror_mode": {
    "name": "ipython",
    "version": 2
   },
   "file_extension": ".py",
   "mimetype": "text/x-python",
   "name": "python",
   "nbconvert_exporter": "python",
   "pygments_lexer": "ipython2",
   "version": "2.7.12"
  }
 },
 "nbformat": 4,
 "nbformat_minor": 0
}
