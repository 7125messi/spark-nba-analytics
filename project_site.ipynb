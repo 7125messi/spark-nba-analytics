{
 "cells": [
  {
   "cell_type": "markdown",
   "metadata": {},
   "source": [
    "# This is the project site"
   ]
  },
  {
   "cell_type": "markdown",
   "metadata": {},
   "source": [
    "jt -t grade3 -m 200"
   ]
  },
  {
   "cell_type": "markdown",
   "metadata": {},
   "source": [
    "Lorem ipsum dolor sit amet, nec debitis blandit iracundia eu. Pro ferri nobis ei, ut est vero legendos volutpat, no mazim omnes alterum usu. Sed aeque paulo munere ne. Eu quo diceret dolorum, aperiri labitur pertinacia mel ne. Incorrupte contentiones an vix, cum ferri clita ullamcorper an, no vix nostrud accusamus appellantur. Aliquip repudiare has in.\n",
    "\n",
    "Te eum dictas perpetua splendide, no oratio cetero repudiandae sit. Stet suavitate intellegam ex mea, pro dolorem luptatum facilisis ei. Ut omnes nostrum nec. Amet molestiae no pri, nec sint justo scripta in. His ei fabellas periculis gloriatur, ipsum adipisci est an."
   ]
  },
  {
   "cell_type": "markdown",
   "metadata": {
    "collapsed": true
   },
   "source": [
    "this dsfds sdfs "
   ]
  }
 ],
 "metadata": {
  "anaconda-cloud": {},
  "kernelspec": {
   "display_name": "Python [Root]",
   "language": "python",
   "name": "Python [Root]"
  },
  "language_info": {
   "codemirror_mode": {
    "name": "ipython",
    "version": 2
   },
   "file_extension": ".py",
   "mimetype": "text/x-python",
   "name": "python",
   "nbconvert_exporter": "python",
   "pygments_lexer": "ipython2",
   "version": "2.7.12"
  }
 },
 "nbformat": 4,
 "nbformat_minor": 0
}
