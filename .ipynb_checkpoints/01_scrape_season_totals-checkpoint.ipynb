{
 "cells": [
  {
   "cell_type": "markdown",
   "metadata": {
    "ExecuteTime": {
     "end_time": "2016-12-19T11:58:35.299673",
     "start_time": "2016-12-19T11:58:35.279472"
    }
   },
   "source": [
    "# Scrape season totals for every player from basketball reference"
   ]
  },
  {
   "cell_type": "code",
   "execution_count": 2,
   "metadata": {
    "ExecuteTime": {
     "end_time": "2016-12-19T11:29:30.272025",
     "start_time": "2016-12-19T11:29:29.517281"
    },
    "collapsed": false
   },
   "outputs": [],
   "source": [
    "from bs4 import BeautifulSoup\n",
    "import requests"
   ]
  },
  {
   "cell_type": "code",
   "execution_count": 4,
   "metadata": {
    "ExecuteTime": {
     "end_time": "2016-12-19T11:29:46.599648",
     "start_time": "2016-12-19T11:29:45.458041"
    },
    "collapsed": false
   },
   "outputs": [],
   "source": [
    "url = 'http://www.basketball-reference.com/leagues/NBA_2016_totals.html'\n",
    "r = requests.get(url)\n",
    "soup = BeautifulSoup(r.text)"
   ]
  },
  {
   "cell_type": "code",
   "execution_count": 118,
   "metadata": {
    "ExecuteTime": {
     "end_time": "2016-12-19T12:12:57.882210",
     "start_time": "2016-12-19T12:12:57.808875"
    },
    "collapsed": false
   },
   "outputs": [],
   "source": [
    "def parse_html_table(html_table):\n",
    "    '''For parsing basketball reference stats table'''\n",
    "    data = []\n",
    "    cur_row = []\n",
    "    row_names = []\n",
    "    for ele in html_table:\n",
    "        stat_name  = ele['data-stat']\n",
    "        stat_value = ele.string\n",
    "        new_row = (stat_name == 'player')\n",
    "        if new_row:\n",
    "            if cur_row:\n",
    "                data.append(cur_row)\n",
    "            cur_row = []\n",
    "            col_names = []\n",
    "            cur_row.append(ele['csk']) # fixes weird asterisk error\n",
    "            col_names.append(stat_name)\n",
    "            continue\n",
    "        cur_row.append(stat_value)\n",
    "        col_names.append(stat_name)\n",
    "    return data, col_names"
   ]
  },
  {
   "cell_type": "markdown",
   "metadata": {},
   "source": [
    "# Loop thru each year and collect data"
   ]
  },
  {
   "cell_type": "code",
   "execution_count": 128,
   "metadata": {
    "ExecuteTime": {
     "end_time": "2016-12-19T12:17:43.366447",
     "start_time": "2016-12-19T12:16:50.246730"
    },
    "collapsed": true
   },
   "outputs": [],
   "source": [
    "dfs = []\n",
    "for yr in range(1980,(2016 + 1)):\n",
    "    url = 'http://www.basketball-reference.com/leagues/NBA_{yr}_totals.html'.format(yr = yr)\n",
    "    r = requests.get(url)\n",
    "    soup = BeautifulSoup(r.text)\n",
    "    yr_data, col_names = parse_html_table(soup.findAll('td'))\n",
    "    df = pd.DataFrame(yr_data, columns = col_names)\n",
    "    df['yr'] = yr\n",
    "    dfs.append(df)"
   ]
  },
  {
   "cell_type": "code",
   "execution_count": 129,
   "metadata": {
    "ExecuteTime": {
     "end_time": "2016-12-19T12:17:43.842058",
     "start_time": "2016-12-19T12:17:43.367952"
    },
    "collapsed": false
   },
   "outputs": [],
   "source": [
    "all_seasons = pd.concat(dfs)\n",
    "all_seasons.to_csv('data/season_totals.csv')"
   ]
  }
 ],
 "metadata": {
  "kernelspec": {
   "display_name": "Python 2",
   "language": "python",
   "name": "python2"
  },
  "language_info": {
   "codemirror_mode": {
    "name": "ipython",
    "version": 2
   },
   "file_extension": ".py",
   "mimetype": "text/x-python",
   "name": "python",
   "nbconvert_exporter": "python",
   "pygments_lexer": "ipython2",
   "version": "2.7.12"
  }
 },
 "nbformat": 4,
 "nbformat_minor": 0
}
