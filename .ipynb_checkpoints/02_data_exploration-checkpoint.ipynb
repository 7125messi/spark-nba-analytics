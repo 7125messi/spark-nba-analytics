{
 "cells": [
  {
   "cell_type": "code",
   "execution_count": 107,
   "metadata": {
    "ExecuteTime": {
     "end_time": "2016-12-19T14:15:23.586420",
     "start_time": "2016-12-19T14:15:23.556445"
    },
    "collapsed": false
   },
   "outputs": [],
   "source": [
    "%matplotlib inline\n",
    "\n",
    "from IPython.core.display import display, HTML\n",
    "import matplotlib as mpl\n",
    "import pandas as pd\n",
    "from pyspark.sql.types import DoubleType, IntegerType, StringType, Row\n",
    "from pyspark.sql.functions import sum, col, udf\n",
    "import seaborn as sns\n",
    "\n",
    "from matplotlib import pyplot as plt"
   ]
  },
  {
   "cell_type": "code",
   "execution_count": 179,
   "metadata": {
    "ExecuteTime": {
     "end_time": "2016-12-19T14:50:09.358865",
     "start_time": "2016-12-19T14:50:09.322814"
    },
    "collapsed": false
   },
   "outputs": [
    {
     "data": {
      "text/html": [
       "<style>.container {width:80% !important;}</style>"
      ],
      "text/plain": [
       "<IPython.core.display.HTML object>"
      ]
     },
     "metadata": {},
     "output_type": "display_data"
    }
   ],
   "source": [
    "# Set default cell width\n",
    "display(HTML('<style>.container {width:80% !important;}</style>'))\n",
    "\n",
    "# Set default matplotlib settings\n",
    "plt.style.use('fivethirtyeight')\n",
    "\n",
    "plt.rcParams['font.family'] = 'serif'\n",
    "plt.rcParams['font.serif'] = 'Ubuntu'\n",
    "plt.rcParams['font.monospace'] = 'Ubuntu Mono'\n",
    "plt.rcParams['font.size'] = 16\n",
    "plt.rcParams['axes.labelsize'] = 16\n",
    "plt.rcParams['axes.labelweight'] = 'bold'\n",
    "plt.rcParams['xtick.labelsize'] = 14\n",
    "plt.rcParams['ytick.labelsize'] = 14\n",
    "plt.rcParams['legend.fontsize'] = 20\n",
    "plt.rcParams['figure.titlesize'] = 24\n",
    "\n",
    "# mpl.rcParams['figure.figsize'] = (16, 7)\n",
    "# mpl.rcParams['lines.linewidth'] = 3\n",
    "# mpl.rcParams['figure.titlesize'] = 26\n",
    "# mpl.rcParams['axes.labelsize'] = 18\n",
    "# mpl.rcParams['axes.titlesize'] = 22\n",
    "# mpl.rcParams['xtick.labelsize'] = 14\n",
    "# mpl.rcParams['ytick.labelsize'] = 14\n",
    "# mpl.rcParams['legend.fontsize'] = 16\n",
    "\n",
    "# Set seaborn colours\n",
    "# blue, green, red, purple, yellow, cyan = sns.color_palette()"
   ]
  },
  {
   "cell_type": "code",
   "execution_count": 84,
   "metadata": {
    "ExecuteTime": {
     "end_time": "2016-12-19T14:03:07.661392",
     "start_time": "2016-12-19T14:03:07.587019"
    },
    "collapsed": true
   },
   "outputs": [],
   "source": [
    "df = spark.read.option('header','true').csv('data/season_totals.csv')"
   ]
  },
  {
   "cell_type": "code",
   "execution_count": 85,
   "metadata": {
    "ExecuteTime": {
     "end_time": "2016-12-19T14:03:08.227909",
     "start_time": "2016-12-19T14:03:07.912028"
    },
    "collapsed": false
   },
   "outputs": [],
   "source": [
    "dtype_dict = {'player' : StringType, 'pos' : StringType, 'team_id' : StringType, 'age' : IntegerType, 'g' : IntegerType, 'gs' : IntegerType, 'yr' : IntegerType}\n",
    "df2 = df.fillna('0')\n",
    "\n",
    "for c in df.schema.names[:]:\n",
    "    dtype = DoubleType if c not in dtype_dict.keys() else dtype_dict[c]\n",
    "    df2 = df2.withColumn(c,df2[c].cast(dtype()))"
   ]
  },
  {
   "cell_type": "markdown",
   "metadata": {
    "ExecuteTime": {
     "end_time": "2016-12-19T14:08:21.236542",
     "start_time": "2016-12-19T14:08:21.209077"
    }
   },
   "source": [
    "* _c0\n",
    "* player\n",
    "* pos\n",
    "* age\n",
    "* team_id\n",
    "* g\n",
    "* gs\n",
    "* mp\n",
    "* fg\n",
    "* fga\n",
    "* fg_pct\n",
    "* fg3\n",
    "* fg3a\n",
    "* fg3_pct\n",
    "* fg2\n",
    "* fg2a\n",
    "* fg2_pct\n",
    "* efg_pct\n",
    "* ft\n",
    "* fta\n",
    "* ft_pct\n",
    "* orb\n",
    "* drb\n",
    "* trb\n",
    "* ast\n",
    "* stl\n",
    "* blk\n",
    "* tov\n",
    "* pf\n",
    "* pts\n",
    "* yr"
   ]
  },
  {
   "cell_type": "markdown",
   "metadata": {
    "ExecuteTime": {
     "end_time": "2016-12-19T12:41:52.462354",
     "start_time": "2016-12-19T12:41:52.447660"
    }
   },
   "source": [
    "# View 3 pointers over time"
   ]
  },
  {
   "cell_type": "code",
   "execution_count": 155,
   "metadata": {
    "ExecuteTime": {
     "end_time": "2016-12-19T14:41:44.290562",
     "start_time": "2016-12-19T14:41:44.222616"
    },
    "collapsed": false
   },
   "outputs": [],
   "source": [
    "# 3 pointers per minute\n",
    "# cross check work\n",
    "sqlContext.registerDataFrameAsTable(df2, 'df2')\n",
    "df3 = sqlContext.sql('''SELECT yr,\n",
    "                               sum(fg3a)/sum(mp) fg3a_pm\n",
    "                        FROM df2 GROUP BY yr\n",
    "                        ORDER BY yr''')"
   ]
  },
  {
   "cell_type": "code",
   "execution_count": 165,
   "metadata": {
    "ExecuteTime": {
     "end_time": "2016-12-19T14:44:58.294701",
     "start_time": "2016-12-19T14:44:57.823694"
    },
    "collapsed": false
   },
   "outputs": [],
   "source": [
    "# 3 point attempts / minute\n",
    "fga_py = df2.groupBy('yr')\\\n",
    "         .agg({'mp' : 'sum', 'fg3a' : 'sum', 'fga' : 'sum'})\\\n",
    "         .select(col('yr'), (col('sum(fga)')/col('sum(mp)')).alias('fga_pm'), (col('sum(fg3a)')/col('sum(mp)')).alias('fg3a_pm'))\\\n",
    "         .orderBy('yr')\\\n",
    "         .toPandas()"
   ]
  },
  {
   "cell_type": "code",
   "execution_count": 185,
   "metadata": {
    "ExecuteTime": {
     "end_time": "2016-12-19T15:01:45.997485",
     "start_time": "2016-12-19T15:01:45.629111"
    },
    "collapsed": false
   },
   "outputs": [
    {
     "data": {
      "text/plain": [
       "<matplotlib.text.Text at 0x11e036fd0>"
      ]
     },
     "execution_count": 185,
     "metadata": {},
     "output_type": "execute_result"
    },
    {
     "data": {
      "image/png": "[encoded data removed]",
      "text/plain": [
       "<matplotlib.figure.Figure at 0x11dd35a10>"
      ]
     },
     "metadata": {},
     "output_type": "display_data"
    }
   ],
   "source": [
    "# plt.style.use('seaborn-white')\n",
    "\n",
    "plt.plot(fga_py.yr,36*fga_py.fg3a_pm, color = '#00a79c')\n",
    "plt.xlabel('Year')\n",
    "plt.title('Avg. per 36 3-point attempts')\n",
    "# plt.plot(36*fga_py.fga_pm)"
   ]
  },
  {
   "cell_type": "code",
   "execution_count": null,
   "metadata": {
    "collapsed": true
   },
   "outputs": [],
   "source": []
  }
 ],
 "metadata": {
  "anaconda-cloud": {},
  "kernelspec": {
   "display_name": "Python 2",
   "language": "python",
   "name": "python2"
  },
  "language_info": {
   "codemirror_mode": {
    "name": "ipython",
    "version": 2
   },
   "file_extension": ".py",
   "mimetype": "text/x-python",
   "name": "python",
   "nbconvert_exporter": "python",
   "pygments_lexer": "ipython2",
   "version": "2.7.12"
  }
 },
 "nbformat": 4,
 "nbformat_minor": 0
}
