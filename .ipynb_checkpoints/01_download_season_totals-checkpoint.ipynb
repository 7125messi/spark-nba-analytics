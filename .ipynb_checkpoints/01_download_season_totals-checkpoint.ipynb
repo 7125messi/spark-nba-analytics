{
 "cells": [
  {
   "cell_type": "markdown",
   "metadata": {
    "ExecuteTime": {
     "end_time": "2016-12-19T11:58:35.299673",
     "start_time": "2016-12-19T11:58:35.279472"
    }
   },
   "source": [
    "# Scrape season totals for every player from basketball reference"
   ]
  },
  {
   "cell_type": "code",
   "execution_count": 2,
   "metadata": {
    "ExecuteTime": {
     "end_time": "2016-12-19T11:29:30.272025",
     "start_time": "2016-12-19T11:29:29.517281"
    },
    "collapsed": false
   },
   "outputs": [],
   "source": [
    "from bs4 import BeautifulSoup\n",
    "import requests"
   ]
  },
  {
   "cell_type": "code",
   "execution_count": 4,
   "metadata": {
    "ExecuteTime": {
     "end_time": "2016-12-19T11:29:46.599648",
     "start_time": "2016-12-19T11:29:45.458041"
    },
    "collapsed": false
   },
   "outputs": [],
   "source": [
    "url = 'http://www.basketball-reference.com/leagues/NBA_2016_totals.html'\n",
    "r = requests.get(url)\n",
    "soup = BeautifulSoup(r.text)"
   ]
  },
  {
   "cell_type": "code",
   "execution_count": 63,
   "metadata": {
    "ExecuteTime": {
     "end_time": "2016-12-19T11:57:24.097732",
     "start_time": "2016-12-19T11:57:24.027402"
    },
    "collapsed": false
   },
   "outputs": [],
   "source": [
    "def parse_html_table(html_table):\n",
    "    '''For parsing basketball reference stats table'''\n",
    "    \n",
    "    data = []\n",
    "    cur_row = []\n",
    "    row_names = []\n",
    "    \n",
    "    for ele in html_table:\n",
    "        stat_name  = ele['data-stat']\n",
    "        stat_value = ele.string\n",
    "        new_row = (stat_name == 'player')\n",
    "        if new_row:\n",
    "            if cur_row:\n",
    "                data.append(cur_row)\n",
    "            cur_row = []\n",
    "            col_names = []\n",
    "            cur_row.append(ele['csk']) # fixes weird asterisk error\n",
    "        cur_row.append(stat_value)\n",
    "        col_names.append(stat_name)\n",
    "    return data, col_names\n",
    "            \n",
    "data, col_names = get_row(col)"
   ]
  },
  {
   "cell_type": "code",
   "execution_count": 77,
   "metadata": {
    "ExecuteTime": {
     "end_time": "2016-12-19T12:02:40.588622",
     "start_time": "2016-12-19T12:01:49.185503"
    },
    "collapsed": false
   },
   "outputs": [],
   "source": [
    "dfs = []\n",
    "for yr in range(1980,(2016 + 1)):\n",
    "    url = 'http://www.basketball-reference.com/leagues/NBA_{yr}_totals.html'.format(yr = yr)\n",
    "    r = requests.get(url)\n",
    "    soup = BeautifulSoup(r.text)\n",
    "    yr_data, col_names = parse_html_table(soup.findAll('td'))\n",
    "    df = pd.DataFrame(yr_data, columns = col_names)\n",
    "    df['yr'] = yr\n",
    "    dfs.append(df)"
   ]
  },
  {
   "cell_type": "code",
   "execution_count": 79,
   "metadata": {
    "ExecuteTime": {
     "end_time": "2016-12-19T12:03:07.851517",
     "start_time": "2016-12-19T12:03:07.581114"
    },
    "collapsed": false
   },
   "outputs": [],
   "source": [
    "all_seasons = pd.concat(dfs)\n",
    "all_seasons.to_csv('data/seaon_totals.csv')"
   ]
  },
  {
   "cell_type": "code",
   "execution_count": 84,
   "metadata": {
    "ExecuteTime": {
     "end_time": "2016-12-19T12:04:51.877181",
     "start_time": "2016-12-19T12:04:50.960754"
    },
    "collapsed": false
   },
   "outputs": [],
   "source": [
    "url = 'http://www.basketball-reference.com/leagues/NBA_{yr}_totals.html'.format(yr = 1980)\n",
    "r = requests.get(url)\n",
    "soup = BeautifulSoup(r.text)\n",
    "html_table = soup.findAll('td')"
   ]
  },
  {
   "cell_type": "code",
   "execution_count": 89,
   "metadata": {
    "ExecuteTime": {
     "end_time": "2016-12-19T12:05:29.277425",
     "start_time": "2016-12-19T12:05:29.257309"
    },
    "collapsed": false
   },
   "outputs": [],
   "source": []
  },
  {
   "cell_type": "code",
   "execution_count": 108,
   "metadata": {
    "ExecuteTime": {
     "end_time": "2016-12-19T12:09:36.363045",
     "start_time": "2016-12-19T12:09:36.340871"
    },
    "collapsed": false
   },
   "outputs": [
    {
     "data": {
      "text/plain": [
       "u'Kareem Abdul-Jabbar'"
      ]
     },
     "execution_count": 108,
     "metadata": {},
     "output_type": "execute_result"
    }
   ],
   "source": [
    "a = html_table[0]\n",
    "a.contents[0].string"
   ]
  },
  {
   "cell_type": "code",
   "execution_count": 99,
   "metadata": {
    "ExecuteTime": {
     "end_time": "2016-12-19T12:07:43.228015",
     "start_time": "2016-12-19T12:07:43.206015"
    },
    "collapsed": false
   },
   "outputs": [
    {
     "data": {
      "text/plain": [
       "bs4.element.Tag"
      ]
     },
     "execution_count": 99,
     "metadata": {},
     "output_type": "execute_result"
    }
   ],
   "source": [
    "type(html_table[1])"
   ]
  },
  {
   "cell_type": "code",
   "execution_count": 107,
   "metadata": {
    "ExecuteTime": {
     "end_time": "2016-12-19T12:09:03.668402",
     "start_time": "2016-12-19T12:09:03.646381"
    },
    "collapsed": false
   },
   "outputs": [
    {
     "data": {
      "text/plain": [
       "{'class': ['left', ''],\n",
       " 'csk': 'Abernethy,Tom',\n",
       " 'data-append-csv': 'abernto01',\n",
       " 'data-stat': 'player'}"
      ]
     },
     "execution_count": 107,
     "metadata": {},
     "output_type": "execute_result"
    }
   ],
   "source": [
    "html_table[29].attrs\n",
    "# a.attrs"
   ]
  },
  {
   "cell_type": "code",
   "execution_count": 109,
   "metadata": {
    "ExecuteTime": {
     "end_time": "2016-12-19T12:09:40.682559",
     "start_time": "2016-12-19T12:09:40.661039"
    },
    "collapsed": false
   },
   "outputs": [
    {
     "data": {
      "text/plain": [
       "'Abdul-Jabbar,Kareem'"
      ]
     },
     "execution_count": 109,
     "metadata": {},
     "output_type": "execute_result"
    }
   ],
   "source": [
    "a['csk']"
   ]
  },
  {
   "cell_type": "code",
   "execution_count": null,
   "metadata": {
    "collapsed": true
   },
   "outputs": [],
   "source": []
  }
 ],
 "metadata": {
  "kernelspec": {
   "display_name": "Python 2",
   "language": "python",
   "name": "python2"
  },
  "language_info": {
   "codemirror_mode": {
    "name": "ipython",
    "version": 2
   },
   "file_extension": ".py",
   "mimetype": "text/x-python",
   "name": "python",
   "nbconvert_exporter": "python",
   "pygments_lexer": "ipython2",
   "version": "2.7.12"
  }
 },
 "nbformat": 4,
 "nbformat_minor": 0
}
